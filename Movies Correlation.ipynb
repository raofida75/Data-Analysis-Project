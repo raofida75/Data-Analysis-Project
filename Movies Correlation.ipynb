{
 "cells": [
  {
   "cell_type": "markdown",
   "id": "443b3514",
   "metadata": {},
   "source": [
    "* Import Libraries"
   ]
  },
  {
   "cell_type": "code",
   "execution_count": 2,
   "id": "a45506b5",
   "metadata": {},
   "outputs": [],
   "source": [
    "import pandas as pd\n",
    "import matplotlib\n",
    "import matplotlib.pyplot as plt\n",
    "plt.style.use('ggplot')\n",
    "%matplotlib inline\n",
    "matplotlib.rcParams['figure.figsize'] = 12,8\n",
    "from matplotlib.pyplot import figure\n",
    "import seaborn as sns"
   ]
  },
  {
   "cell_type": "code",
   "execution_count": 3,
   "id": "19a732ef",
   "metadata": {},
   "outputs": [],
   "source": [
    "### Read in the data\n",
    "df = pd.read_csv('movies.csv')"
   ]
  },
  {
   "cell_type": "code",
   "execution_count": 5,
   "id": "2f52fec8",
   "metadata": {},
   "outputs": [
    {
     "data": {
      "text/html": [
       "<div>\n",
       "<style scoped>\n",
       "    .dataframe tbody tr th:only-of-type {\n",
       "        vertical-align: middle;\n",
       "    }\n",
       "\n",
       "    .dataframe tbody tr th {\n",
       "        vertical-align: top;\n",
       "    }\n",
       "\n",
       "    .dataframe thead th {\n",
       "        text-align: right;\n",
       "    }\n",
       "</style>\n",
       "<table border=\"1\" class=\"dataframe\">\n",
       "  <thead>\n",
       "    <tr style=\"text-align: right;\">\n",
       "      <th></th>\n",
       "      <th>name</th>\n",
       "      <th>rating</th>\n",
       "      <th>genre</th>\n",
       "      <th>year</th>\n",
       "      <th>released</th>\n",
       "      <th>score</th>\n",
       "      <th>votes</th>\n",
       "      <th>director</th>\n",
       "      <th>writer</th>\n",
       "      <th>star</th>\n",
       "      <th>country</th>\n",
       "      <th>budget</th>\n",
       "      <th>gross</th>\n",
       "      <th>company</th>\n",
       "      <th>runtime</th>\n",
       "    </tr>\n",
       "  </thead>\n",
       "  <tbody>\n",
       "    <tr>\n",
       "      <th>0</th>\n",
       "      <td>The Shining</td>\n",
       "      <td>R</td>\n",
       "      <td>Drama</td>\n",
       "      <td>1980</td>\n",
       "      <td>June 13, 1980 (United States)</td>\n",
       "      <td>8.4</td>\n",
       "      <td>927000.0</td>\n",
       "      <td>Stanley Kubrick</td>\n",
       "      <td>Stephen King</td>\n",
       "      <td>Jack Nicholson</td>\n",
       "      <td>United Kingdom</td>\n",
       "      <td>19000000.0</td>\n",
       "      <td>46998772.0</td>\n",
       "      <td>Warner Bros.</td>\n",
       "      <td>146.0</td>\n",
       "    </tr>\n",
       "    <tr>\n",
       "      <th>1</th>\n",
       "      <td>The Blue Lagoon</td>\n",
       "      <td>R</td>\n",
       "      <td>Adventure</td>\n",
       "      <td>1980</td>\n",
       "      <td>July 2, 1980 (United States)</td>\n",
       "      <td>5.8</td>\n",
       "      <td>65000.0</td>\n",
       "      <td>Randal Kleiser</td>\n",
       "      <td>Henry De Vere Stacpoole</td>\n",
       "      <td>Brooke Shields</td>\n",
       "      <td>United States</td>\n",
       "      <td>4500000.0</td>\n",
       "      <td>58853106.0</td>\n",
       "      <td>Columbia Pictures</td>\n",
       "      <td>104.0</td>\n",
       "    </tr>\n",
       "    <tr>\n",
       "      <th>2</th>\n",
       "      <td>Star Wars: Episode V - The Empire Strikes Back</td>\n",
       "      <td>PG</td>\n",
       "      <td>Action</td>\n",
       "      <td>1980</td>\n",
       "      <td>June 20, 1980 (United States)</td>\n",
       "      <td>8.7</td>\n",
       "      <td>1200000.0</td>\n",
       "      <td>Irvin Kershner</td>\n",
       "      <td>Leigh Brackett</td>\n",
       "      <td>Mark Hamill</td>\n",
       "      <td>United States</td>\n",
       "      <td>18000000.0</td>\n",
       "      <td>538375067.0</td>\n",
       "      <td>Lucasfilm</td>\n",
       "      <td>124.0</td>\n",
       "    </tr>\n",
       "    <tr>\n",
       "      <th>3</th>\n",
       "      <td>Airplane!</td>\n",
       "      <td>PG</td>\n",
       "      <td>Comedy</td>\n",
       "      <td>1980</td>\n",
       "      <td>July 2, 1980 (United States)</td>\n",
       "      <td>7.7</td>\n",
       "      <td>221000.0</td>\n",
       "      <td>Jim Abrahams</td>\n",
       "      <td>Jim Abrahams</td>\n",
       "      <td>Robert Hays</td>\n",
       "      <td>United States</td>\n",
       "      <td>3500000.0</td>\n",
       "      <td>83453539.0</td>\n",
       "      <td>Paramount Pictures</td>\n",
       "      <td>88.0</td>\n",
       "    </tr>\n",
       "    <tr>\n",
       "      <th>4</th>\n",
       "      <td>Caddyshack</td>\n",
       "      <td>R</td>\n",
       "      <td>Comedy</td>\n",
       "      <td>1980</td>\n",
       "      <td>July 25, 1980 (United States)</td>\n",
       "      <td>7.3</td>\n",
       "      <td>108000.0</td>\n",
       "      <td>Harold Ramis</td>\n",
       "      <td>Brian Doyle-Murray</td>\n",
       "      <td>Chevy Chase</td>\n",
       "      <td>United States</td>\n",
       "      <td>6000000.0</td>\n",
       "      <td>39846344.0</td>\n",
       "      <td>Orion Pictures</td>\n",
       "      <td>98.0</td>\n",
       "    </tr>\n",
       "  </tbody>\n",
       "</table>\n",
       "</div>"
      ],
      "text/plain": [
       "                                             name rating      genre  year  \\\n",
       "0                                     The Shining      R      Drama  1980   \n",
       "1                                 The Blue Lagoon      R  Adventure  1980   \n",
       "2  Star Wars: Episode V - The Empire Strikes Back     PG     Action  1980   \n",
       "3                                       Airplane!     PG     Comedy  1980   \n",
       "4                                      Caddyshack      R     Comedy  1980   \n",
       "\n",
       "                        released  score      votes         director  \\\n",
       "0  June 13, 1980 (United States)    8.4   927000.0  Stanley Kubrick   \n",
       "1   July 2, 1980 (United States)    5.8    65000.0   Randal Kleiser   \n",
       "2  June 20, 1980 (United States)    8.7  1200000.0   Irvin Kershner   \n",
       "3   July 2, 1980 (United States)    7.7   221000.0     Jim Abrahams   \n",
       "4  July 25, 1980 (United States)    7.3   108000.0     Harold Ramis   \n",
       "\n",
       "                    writer            star         country      budget  \\\n",
       "0             Stephen King  Jack Nicholson  United Kingdom  19000000.0   \n",
       "1  Henry De Vere Stacpoole  Brooke Shields   United States   4500000.0   \n",
       "2           Leigh Brackett     Mark Hamill   United States  18000000.0   \n",
       "3             Jim Abrahams     Robert Hays   United States   3500000.0   \n",
       "4       Brian Doyle-Murray     Chevy Chase   United States   6000000.0   \n",
       "\n",
       "         gross             company  runtime  \n",
       "0   46998772.0        Warner Bros.    146.0  \n",
       "1   58853106.0   Columbia Pictures    104.0  \n",
       "2  538375067.0           Lucasfilm    124.0  \n",
       "3   83453539.0  Paramount Pictures     88.0  \n",
       "4   39846344.0      Orion Pictures     98.0  "
      ]
     },
     "execution_count": 5,
     "metadata": {},
     "output_type": "execute_result"
    }
   ],
   "source": [
    "df.head()"
   ]
  },
  {
   "cell_type": "code",
   "execution_count": 12,
   "id": "a9628e9d",
   "metadata": {},
   "outputs": [
    {
     "name": "stdout",
     "output_type": "stream",
     "text": [
      "<class 'pandas.core.frame.DataFrame'>\n",
      "RangeIndex: 7668 entries, 0 to 7667\n",
      "Data columns (total 15 columns):\n",
      " #   Column    Non-Null Count  Dtype  \n",
      "---  ------    --------------  -----  \n",
      " 0   name      7668 non-null   object \n",
      " 1   rating    7591 non-null   object \n",
      " 2   genre     7668 non-null   object \n",
      " 3   year      7668 non-null   int64  \n",
      " 4   released  7666 non-null   object \n",
      " 5   score     7665 non-null   float64\n",
      " 6   votes     7665 non-null   float64\n",
      " 7   director  7668 non-null   object \n",
      " 8   writer    7665 non-null   object \n",
      " 9   star      7667 non-null   object \n",
      " 10  country   7665 non-null   object \n",
      " 11  budget    5497 non-null   float64\n",
      " 12  gross     7479 non-null   float64\n",
      " 13  company   7651 non-null   object \n",
      " 14  runtime   7664 non-null   float64\n",
      "dtypes: float64(5), int64(1), object(9)\n",
      "memory usage: 898.7+ KB\n"
     ]
    }
   ],
   "source": [
    "df.info()"
   ]
  },
  {
   "cell_type": "code",
   "execution_count": 14,
   "id": "1b7944a6",
   "metadata": {
    "scrolled": false
   },
   "outputs": [
    {
     "data": {
      "text/plain": [
       "name         0.000000\n",
       "rating       1.004173\n",
       "genre        0.000000\n",
       "year         0.000000\n",
       "released     0.026082\n",
       "score        0.039124\n",
       "votes        0.039124\n",
       "director     0.000000\n",
       "writer       0.039124\n",
       "star         0.013041\n",
       "country      0.039124\n",
       "budget      28.312467\n",
       "gross        2.464789\n",
       "company      0.221701\n",
       "runtime      0.052165\n",
       "dtype: float64"
      ]
     },
     "execution_count": 14,
     "metadata": {},
     "output_type": "execute_result"
    }
   ],
   "source": [
    "### lets see if there is any missing data\n",
    "df.isnull().sum() * 100 / len(df)"
   ]
  },
  {
   "cell_type": "markdown",
   "id": "aa9eee97",
   "metadata": {},
   "source": [
    "### Data Cleaning"
   ]
  },
  {
   "cell_type": "code",
   "execution_count": 26,
   "id": "5e2a2f14",
   "metadata": {},
   "outputs": [],
   "source": [
    "df['year_correct'] = (df['released'].str.split(',').str[1].str.split(' ').str[1])"
   ]
  },
  {
   "cell_type": "code",
   "execution_count": 47,
   "id": "2ffbafd1",
   "metadata": {},
   "outputs": [
    {
     "data": {
      "text/html": [
       "<div>\n",
       "<style scoped>\n",
       "    .dataframe tbody tr th:only-of-type {\n",
       "        vertical-align: middle;\n",
       "    }\n",
       "\n",
       "    .dataframe tbody tr th {\n",
       "        vertical-align: top;\n",
       "    }\n",
       "\n",
       "    .dataframe thead th {\n",
       "        text-align: right;\n",
       "    }\n",
       "</style>\n",
       "<table border=\"1\" class=\"dataframe\">\n",
       "  <thead>\n",
       "    <tr style=\"text-align: right;\">\n",
       "      <th></th>\n",
       "      <th>name</th>\n",
       "      <th>rating</th>\n",
       "      <th>genre</th>\n",
       "      <th>year</th>\n",
       "      <th>released</th>\n",
       "      <th>score</th>\n",
       "      <th>votes</th>\n",
       "      <th>director</th>\n",
       "      <th>writer</th>\n",
       "      <th>star</th>\n",
       "      <th>country</th>\n",
       "      <th>budget</th>\n",
       "      <th>gross</th>\n",
       "      <th>company</th>\n",
       "      <th>runtime</th>\n",
       "      <th>year_correct</th>\n",
       "    </tr>\n",
       "  </thead>\n",
       "  <tbody>\n",
       "    <tr>\n",
       "      <th>5445</th>\n",
       "      <td>Avatar</td>\n",
       "      <td>PG-13</td>\n",
       "      <td>Action</td>\n",
       "      <td>2009</td>\n",
       "      <td>December 18, 2009 (United States)</td>\n",
       "      <td>7.8</td>\n",
       "      <td>1100000.0</td>\n",
       "      <td>James Cameron</td>\n",
       "      <td>James Cameron</td>\n",
       "      <td>Sam Worthington</td>\n",
       "      <td>United States</td>\n",
       "      <td>237000000.0</td>\n",
       "      <td>2.847246e+09</td>\n",
       "      <td>Twentieth Century Fox</td>\n",
       "      <td>162.0</td>\n",
       "      <td>2009</td>\n",
       "    </tr>\n",
       "    <tr>\n",
       "      <th>7445</th>\n",
       "      <td>Avengers: Endgame</td>\n",
       "      <td>PG-13</td>\n",
       "      <td>Action</td>\n",
       "      <td>2019</td>\n",
       "      <td>April 26, 2019 (United States)</td>\n",
       "      <td>8.4</td>\n",
       "      <td>903000.0</td>\n",
       "      <td>Anthony Russo</td>\n",
       "      <td>Christopher Markus</td>\n",
       "      <td>Robert Downey Jr.</td>\n",
       "      <td>United States</td>\n",
       "      <td>356000000.0</td>\n",
       "      <td>2.797501e+09</td>\n",
       "      <td>Marvel Studios</td>\n",
       "      <td>181.0</td>\n",
       "      <td>2019</td>\n",
       "    </tr>\n",
       "    <tr>\n",
       "      <th>3045</th>\n",
       "      <td>Titanic</td>\n",
       "      <td>PG-13</td>\n",
       "      <td>Drama</td>\n",
       "      <td>1997</td>\n",
       "      <td>December 19, 1997 (United States)</td>\n",
       "      <td>7.8</td>\n",
       "      <td>1100000.0</td>\n",
       "      <td>James Cameron</td>\n",
       "      <td>James Cameron</td>\n",
       "      <td>Leonardo DiCaprio</td>\n",
       "      <td>United States</td>\n",
       "      <td>200000000.0</td>\n",
       "      <td>2.201647e+09</td>\n",
       "      <td>Twentieth Century Fox</td>\n",
       "      <td>194.0</td>\n",
       "      <td>1997</td>\n",
       "    </tr>\n",
       "    <tr>\n",
       "      <th>6663</th>\n",
       "      <td>Star Wars: Episode VII - The Force Awakens</td>\n",
       "      <td>PG-13</td>\n",
       "      <td>Action</td>\n",
       "      <td>2015</td>\n",
       "      <td>December 18, 2015 (United States)</td>\n",
       "      <td>7.8</td>\n",
       "      <td>876000.0</td>\n",
       "      <td>J.J. Abrams</td>\n",
       "      <td>Lawrence Kasdan</td>\n",
       "      <td>Daisy Ridley</td>\n",
       "      <td>United States</td>\n",
       "      <td>245000000.0</td>\n",
       "      <td>2.069522e+09</td>\n",
       "      <td>Lucasfilm</td>\n",
       "      <td>138.0</td>\n",
       "      <td>2015</td>\n",
       "    </tr>\n",
       "    <tr>\n",
       "      <th>7244</th>\n",
       "      <td>Avengers: Infinity War</td>\n",
       "      <td>PG-13</td>\n",
       "      <td>Action</td>\n",
       "      <td>2018</td>\n",
       "      <td>April 27, 2018 (United States)</td>\n",
       "      <td>8.4</td>\n",
       "      <td>897000.0</td>\n",
       "      <td>Anthony Russo</td>\n",
       "      <td>Christopher Markus</td>\n",
       "      <td>Robert Downey Jr.</td>\n",
       "      <td>United States</td>\n",
       "      <td>321000000.0</td>\n",
       "      <td>2.048360e+09</td>\n",
       "      <td>Marvel Studios</td>\n",
       "      <td>149.0</td>\n",
       "      <td>2018</td>\n",
       "    </tr>\n",
       "    <tr>\n",
       "      <th>...</th>\n",
       "      <td>...</td>\n",
       "      <td>...</td>\n",
       "      <td>...</td>\n",
       "      <td>...</td>\n",
       "      <td>...</td>\n",
       "      <td>...</td>\n",
       "      <td>...</td>\n",
       "      <td>...</td>\n",
       "      <td>...</td>\n",
       "      <td>...</td>\n",
       "      <td>...</td>\n",
       "      <td>...</td>\n",
       "      <td>...</td>\n",
       "      <td>...</td>\n",
       "      <td>...</td>\n",
       "      <td>...</td>\n",
       "    </tr>\n",
       "    <tr>\n",
       "      <th>7663</th>\n",
       "      <td>More to Life</td>\n",
       "      <td>NaN</td>\n",
       "      <td>Drama</td>\n",
       "      <td>2020</td>\n",
       "      <td>October 23, 2020 (United States)</td>\n",
       "      <td>3.1</td>\n",
       "      <td>18.0</td>\n",
       "      <td>Joseph Ebanks</td>\n",
       "      <td>Joseph Ebanks</td>\n",
       "      <td>Shannon Bond</td>\n",
       "      <td>United States</td>\n",
       "      <td>7000.0</td>\n",
       "      <td>NaN</td>\n",
       "      <td>NaN</td>\n",
       "      <td>90.0</td>\n",
       "      <td>2020</td>\n",
       "    </tr>\n",
       "    <tr>\n",
       "      <th>7664</th>\n",
       "      <td>Dream Round</td>\n",
       "      <td>NaN</td>\n",
       "      <td>Comedy</td>\n",
       "      <td>2020</td>\n",
       "      <td>February 7, 2020 (United States)</td>\n",
       "      <td>4.7</td>\n",
       "      <td>36.0</td>\n",
       "      <td>Dusty Dukatz</td>\n",
       "      <td>Lisa Huston</td>\n",
       "      <td>Michael Saquella</td>\n",
       "      <td>United States</td>\n",
       "      <td>NaN</td>\n",
       "      <td>NaN</td>\n",
       "      <td>Cactus Blue Entertainment</td>\n",
       "      <td>90.0</td>\n",
       "      <td>2020</td>\n",
       "    </tr>\n",
       "    <tr>\n",
       "      <th>7665</th>\n",
       "      <td>Saving Mbango</td>\n",
       "      <td>NaN</td>\n",
       "      <td>Drama</td>\n",
       "      <td>2020</td>\n",
       "      <td>April 27, 2020 (Cameroon)</td>\n",
       "      <td>5.7</td>\n",
       "      <td>29.0</td>\n",
       "      <td>Nkanya Nkwai</td>\n",
       "      <td>Lynno Lovert</td>\n",
       "      <td>Onyama Laura</td>\n",
       "      <td>United States</td>\n",
       "      <td>58750.0</td>\n",
       "      <td>NaN</td>\n",
       "      <td>Embi Productions</td>\n",
       "      <td>NaN</td>\n",
       "      <td>2020</td>\n",
       "    </tr>\n",
       "    <tr>\n",
       "      <th>7666</th>\n",
       "      <td>It's Just Us</td>\n",
       "      <td>NaN</td>\n",
       "      <td>Drama</td>\n",
       "      <td>2020</td>\n",
       "      <td>October 1, 2020 (United States)</td>\n",
       "      <td>NaN</td>\n",
       "      <td>NaN</td>\n",
       "      <td>James Randall</td>\n",
       "      <td>James Randall</td>\n",
       "      <td>Christina Roz</td>\n",
       "      <td>United States</td>\n",
       "      <td>15000.0</td>\n",
       "      <td>NaN</td>\n",
       "      <td>NaN</td>\n",
       "      <td>120.0</td>\n",
       "      <td>2020</td>\n",
       "    </tr>\n",
       "    <tr>\n",
       "      <th>7667</th>\n",
       "      <td>Tee em el</td>\n",
       "      <td>NaN</td>\n",
       "      <td>Horror</td>\n",
       "      <td>2020</td>\n",
       "      <td>August 19, 2020 (United States)</td>\n",
       "      <td>5.7</td>\n",
       "      <td>7.0</td>\n",
       "      <td>Pereko Mosia</td>\n",
       "      <td>Pereko Mosia</td>\n",
       "      <td>Siyabonga Mabaso</td>\n",
       "      <td>South Africa</td>\n",
       "      <td>NaN</td>\n",
       "      <td>NaN</td>\n",
       "      <td>PK 65 Films</td>\n",
       "      <td>102.0</td>\n",
       "      <td>2020</td>\n",
       "    </tr>\n",
       "  </tbody>\n",
       "</table>\n",
       "<p>7668 rows × 16 columns</p>\n",
       "</div>"
      ],
      "text/plain": [
       "                                            name rating   genre  year  \\\n",
       "5445                                      Avatar  PG-13  Action  2009   \n",
       "7445                           Avengers: Endgame  PG-13  Action  2019   \n",
       "3045                                     Titanic  PG-13   Drama  1997   \n",
       "6663  Star Wars: Episode VII - The Force Awakens  PG-13  Action  2015   \n",
       "7244                      Avengers: Infinity War  PG-13  Action  2018   \n",
       "...                                          ...    ...     ...   ...   \n",
       "7663                                More to Life    NaN   Drama  2020   \n",
       "7664                                 Dream Round    NaN  Comedy  2020   \n",
       "7665                               Saving Mbango    NaN   Drama  2020   \n",
       "7666                                It's Just Us    NaN   Drama  2020   \n",
       "7667                                   Tee em el    NaN  Horror  2020   \n",
       "\n",
       "                               released  score      votes       director  \\\n",
       "5445  December 18, 2009 (United States)    7.8  1100000.0  James Cameron   \n",
       "7445     April 26, 2019 (United States)    8.4   903000.0  Anthony Russo   \n",
       "3045  December 19, 1997 (United States)    7.8  1100000.0  James Cameron   \n",
       "6663  December 18, 2015 (United States)    7.8   876000.0    J.J. Abrams   \n",
       "7244     April 27, 2018 (United States)    8.4   897000.0  Anthony Russo   \n",
       "...                                 ...    ...        ...            ...   \n",
       "7663   October 23, 2020 (United States)    3.1       18.0  Joseph Ebanks   \n",
       "7664   February 7, 2020 (United States)    4.7       36.0   Dusty Dukatz   \n",
       "7665          April 27, 2020 (Cameroon)    5.7       29.0   Nkanya Nkwai   \n",
       "7666    October 1, 2020 (United States)    NaN        NaN  James Randall   \n",
       "7667    August 19, 2020 (United States)    5.7        7.0   Pereko Mosia   \n",
       "\n",
       "                  writer               star        country       budget  \\\n",
       "5445       James Cameron    Sam Worthington  United States  237000000.0   \n",
       "7445  Christopher Markus  Robert Downey Jr.  United States  356000000.0   \n",
       "3045       James Cameron  Leonardo DiCaprio  United States  200000000.0   \n",
       "6663     Lawrence Kasdan       Daisy Ridley  United States  245000000.0   \n",
       "7244  Christopher Markus  Robert Downey Jr.  United States  321000000.0   \n",
       "...                  ...                ...            ...          ...   \n",
       "7663       Joseph Ebanks       Shannon Bond  United States       7000.0   \n",
       "7664         Lisa Huston   Michael Saquella  United States          NaN   \n",
       "7665        Lynno Lovert       Onyama Laura  United States      58750.0   \n",
       "7666       James Randall      Christina Roz  United States      15000.0   \n",
       "7667        Pereko Mosia   Siyabonga Mabaso   South Africa          NaN   \n",
       "\n",
       "             gross                    company  runtime year_correct  \n",
       "5445  2.847246e+09      Twentieth Century Fox    162.0         2009  \n",
       "7445  2.797501e+09             Marvel Studios    181.0         2019  \n",
       "3045  2.201647e+09      Twentieth Century Fox    194.0         1997  \n",
       "6663  2.069522e+09                  Lucasfilm    138.0         2015  \n",
       "7244  2.048360e+09             Marvel Studios    149.0         2018  \n",
       "...            ...                        ...      ...          ...  \n",
       "7663           NaN                        NaN     90.0         2020  \n",
       "7664           NaN  Cactus Blue Entertainment     90.0         2020  \n",
       "7665           NaN           Embi Productions      NaN         2020  \n",
       "7666           NaN                        NaN    120.0         2020  \n",
       "7667           NaN                PK 65 Films    102.0         2020  \n",
       "\n",
       "[7668 rows x 16 columns]"
      ]
     },
     "execution_count": 47,
     "metadata": {},
     "output_type": "execute_result"
    }
   ],
   "source": [
    "df.sort_values(by=['gross'], ascending=False)"
   ]
  },
  {
   "cell_type": "markdown",
   "id": "9755aed5",
   "metadata": {},
   "source": [
    "#### Filling in the missing values"
   ]
  },
  {
   "cell_type": "code",
   "execution_count": 63,
   "id": "960861c2",
   "metadata": {},
   "outputs": [],
   "source": [
    "df['rating'] = df['rating'].fillna(df['rating'].mode().values[0])\n",
    "# df['score'] = df['score'].fillna(df['score'].median())\n",
    "# df['votes'] = df['votes'].fillna(df['votes'].median())"
   ]
  },
  {
   "cell_type": "code",
   "execution_count": 64,
   "id": "d2b62a0e",
   "metadata": {
    "scrolled": true
   },
   "outputs": [
    {
     "data": {
      "text/plain": [
       "<seaborn.axisgrid.FacetGrid at 0x152d468b0>"
      ]
     },
     "execution_count": 64,
     "metadata": {},
     "output_type": "execute_result"
    },
    {
     "data": {
      "image/png": "[encoded data removed]",
      "text/plain": [
       "<Figure size 360x360 with 1 Axes>"
      ]
     },
     "metadata": {
      "needs_background": "light"
     },
     "output_type": "display_data"
    }
   ],
   "source": [
    "sns.displot(df['budget']) \n",
    "## left skewed, hence we will fill the missing data with median"
   ]
  },
  {
   "cell_type": "code",
   "execution_count": 65,
   "id": "170a1346",
   "metadata": {},
   "outputs": [],
   "source": [
    "df['budget'] = df['budget'].fillna(df['budget'].median())"
   ]
  },
  {
   "cell_type": "code",
   "execution_count": 66,
   "id": "d695547f",
   "metadata": {},
   "outputs": [
    {
     "data": {
      "image/png": "[encoded data removed]",
      "text/plain": [
       "<Figure size 360x360 with 1 Axes>"
      ]
     },
     "metadata": {
      "needs_background": "light"
     },
     "output_type": "display_data"
    }
   ],
   "source": [
    "sns.displot(df['gross']) \n",
    "df['gross'] = df['gross'].fillna(df['gross'].median())"
   ]
  },
  {
   "cell_type": "code",
   "execution_count": 68,
   "id": "095b2883",
   "metadata": {},
   "outputs": [],
   "source": [
    "df = df.dropna()"
   ]
  },
  {
   "cell_type": "markdown",
   "id": "b34c400d",
   "metadata": {},
   "source": [
    "#### Standardizing the data"
   ]
  },
  {
   "cell_type": "code",
   "execution_count": 72,
   "id": "36572f3b",
   "metadata": {},
   "outputs": [
    {
     "name": "stderr",
     "output_type": "stream",
     "text": [
      "<ipython-input-72-3bc4c590d324>:1: SettingWithCopyWarning: \n",
      "A value is trying to be set on a copy of a slice from a DataFrame.\n",
      "Try using .loc[row_indexer,col_indexer] = value instead\n",
      "\n",
      "See the caveats in the documentation: https://pandas.pydata.org/pandas-docs/stable/user_guide/indexing.html#returning-a-view-versus-a-copy\n",
      "  df['budget'] = df['budget'].astype('int64')\n"
     ]
    }
   ],
   "source": [
    "df['budget'] = df['budget'].astype('int64')"
   ]
  },
  {
   "cell_type": "code",
   "execution_count": 74,
   "id": "ba4a595e",
   "metadata": {},
   "outputs": [
    {
     "name": "stderr",
     "output_type": "stream",
     "text": [
      "<ipython-input-74-80a250f85531>:1: SettingWithCopyWarning: \n",
      "A value is trying to be set on a copy of a slice from a DataFrame.\n",
      "Try using .loc[row_indexer,col_indexer] = value instead\n",
      "\n",
      "See the caveats in the documentation: https://pandas.pydata.org/pandas-docs/stable/user_guide/indexing.html#returning-a-view-versus-a-copy\n",
      "  df['gross'] = df['gross'].astype('int64')\n"
     ]
    }
   ],
   "source": [
    "df['gross'] = df['gross'].astype('int64')"
   ]
  },
  {
   "cell_type": "markdown",
   "id": "4c917d6f",
   "metadata": {},
   "source": [
    "### Correlations / EDA"
   ]
  },
  {
   "cell_type": "code",
   "execution_count": 92,
   "id": "824e8a75",
   "metadata": {},
   "outputs": [
    {
     "data": {
      "image/png": "[encoded data removed]",
      "text/plain": [
       "<Figure size 864x576 with 1 Axes>"
      ]
     },
     "metadata": {
      "needs_background": "light"
     },
     "output_type": "display_data"
    }
   ],
   "source": [
    "### scatter plot for budget vs gross\n",
    "plt.scatter(x = df['budget'], y = df['gross'])\n",
    "plt.title('Budget vs Gross Earning')\n",
    "plt.xlabel('Budget')\n",
    "plt.ylabel('Gross Earning')\n",
    "plt.show()"
   ]
  },
  {
   "cell_type": "code",
   "execution_count": 98,
   "id": "fa3e959a",
   "metadata": {},
   "outputs": [
    {
     "data": {
      "image/png": "[encoded data removed]",
      "text/plain": [
       "<Figure size 864x576 with 1 Axes>"
      ]
     },
     "metadata": {
      "needs_background": "light"
     },
     "output_type": "display_data"
    }
   ],
   "source": [
    "sns.regplot(x = df['budget'], y = df['gross'], \n",
    "           scatter_kws={'color':'black', 's':10}, \n",
    "           line_kws={'color':'red'})\n",
    "plt.title('Budget vs Gross Earning')\n",
    "plt.xlabel('Budget')\n",
    "plt.ylabel('Gross Earning')\n",
    "plt.show()"
   ]
  },
  {
   "cell_type": "markdown",
   "id": "9870ccde",
   "metadata": {},
   "source": [
    "#### let's start looking at the correlation"
   ]
  },
  {
   "cell_type": "code",
   "execution_count": 99,
   "id": "511f5145",
   "metadata": {},
   "outputs": [
    {
     "data": {
      "text/html": [
       "<div>\n",
       "<style scoped>\n",
       "    .dataframe tbody tr th:only-of-type {\n",
       "        vertical-align: middle;\n",
       "    }\n",
       "\n",
       "    .dataframe tbody tr th {\n",
       "        vertical-align: top;\n",
       "    }\n",
       "\n",
       "    .dataframe thead th {\n",
       "        text-align: right;\n",
       "    }\n",
       "</style>\n",
       "<table border=\"1\" class=\"dataframe\">\n",
       "  <thead>\n",
       "    <tr style=\"text-align: right;\">\n",
       "      <th></th>\n",
       "      <th>year</th>\n",
       "      <th>score</th>\n",
       "      <th>votes</th>\n",
       "      <th>budget</th>\n",
       "      <th>gross</th>\n",
       "      <th>runtime</th>\n",
       "    </tr>\n",
       "  </thead>\n",
       "  <tbody>\n",
       "    <tr>\n",
       "      <th>year</th>\n",
       "      <td>1.000000</td>\n",
       "      <td>0.100629</td>\n",
       "      <td>0.220880</td>\n",
       "      <td>0.291937</td>\n",
       "      <td>0.258431</td>\n",
       "      <td>0.119354</td>\n",
       "    </tr>\n",
       "    <tr>\n",
       "      <th>score</th>\n",
       "      <td>0.100629</td>\n",
       "      <td>1.000000</td>\n",
       "      <td>0.411727</td>\n",
       "      <td>0.061637</td>\n",
       "      <td>0.186558</td>\n",
       "      <td>0.401209</td>\n",
       "    </tr>\n",
       "    <tr>\n",
       "      <th>votes</th>\n",
       "      <td>0.220880</td>\n",
       "      <td>0.411727</td>\n",
       "      <td>1.000000</td>\n",
       "      <td>0.459880</td>\n",
       "      <td>0.631473</td>\n",
       "      <td>0.308876</td>\n",
       "    </tr>\n",
       "    <tr>\n",
       "      <th>budget</th>\n",
       "      <td>0.291937</td>\n",
       "      <td>0.061637</td>\n",
       "      <td>0.459880</td>\n",
       "      <td>1.000000</td>\n",
       "      <td>0.745716</td>\n",
       "      <td>0.272763</td>\n",
       "    </tr>\n",
       "    <tr>\n",
       "      <th>gross</th>\n",
       "      <td>0.258431</td>\n",
       "      <td>0.186558</td>\n",
       "      <td>0.631473</td>\n",
       "      <td>0.745716</td>\n",
       "      <td>1.000000</td>\n",
       "      <td>0.244045</td>\n",
       "    </tr>\n",
       "    <tr>\n",
       "      <th>runtime</th>\n",
       "      <td>0.119354</td>\n",
       "      <td>0.401209</td>\n",
       "      <td>0.308876</td>\n",
       "      <td>0.272763</td>\n",
       "      <td>0.244045</td>\n",
       "      <td>1.000000</td>\n",
       "    </tr>\n",
       "  </tbody>\n",
       "</table>\n",
       "</div>"
      ],
      "text/plain": [
       "             year     score     votes    budget     gross   runtime\n",
       "year     1.000000  0.100629  0.220880  0.291937  0.258431  0.119354\n",
       "score    0.100629  1.000000  0.411727  0.061637  0.186558  0.401209\n",
       "votes    0.220880  0.411727  1.000000  0.459880  0.631473  0.308876\n",
       "budget   0.291937  0.061637  0.459880  1.000000  0.745716  0.272763\n",
       "gross    0.258431  0.186558  0.631473  0.745716  1.000000  0.244045\n",
       "runtime  0.119354  0.401209  0.308876  0.272763  0.244045  1.000000"
      ]
     },
     "execution_count": 99,
     "metadata": {},
     "output_type": "execute_result"
    }
   ],
   "source": [
    "# Correlation Matrix between all numeric columns\n",
    "\n",
    "df.corr() # pearson, kendall, spearman"
   ]
  },
  {
   "cell_type": "code",
   "execution_count": 101,
   "id": "658b0e8b",
   "metadata": {},
   "outputs": [
    {
     "data": {
      "image/png": "[encoded data removed]",
      "text/plain": [
       "<Figure size 864x576 with 2 Axes>"
      ]
     },
     "metadata": {
      "needs_background": "light"
     },
     "output_type": "display_data"
    }
   ],
   "source": [
    "sns.heatmap(df.corr(), annot=True)\n",
    "plt.title(\"Correlation matrix for Numeric Features\")\n",
    "plt.xlabel(\"Movie features\")\n",
    "plt.ylabel(\"Movie features\")\n",
    "plt.show()\n",
    "\n",
    "### high correlation b/w budget and gross"
   ]
  },
  {
   "cell_type": "code",
   "execution_count": 102,
   "id": "57cd5db0",
   "metadata": {},
   "outputs": [
    {
     "data": {
      "text/plain": [
       "year     year       1.000000\n",
       "         score      0.100629\n",
       "         votes      0.220880\n",
       "         budget     0.291937\n",
       "         gross      0.258431\n",
       "         runtime    0.119354\n",
       "score    year       0.100629\n",
       "         score      1.000000\n",
       "         votes      0.411727\n",
       "         budget     0.061637\n",
       "         gross      0.186558\n",
       "         runtime    0.401209\n",
       "votes    year       0.220880\n",
       "         score      0.411727\n",
       "         votes      1.000000\n",
       "         budget     0.459880\n",
       "         gross      0.631473\n",
       "         runtime    0.308876\n",
       "budget   year       0.291937\n",
       "         score      0.061637\n",
       "         votes      0.459880\n",
       "         budget     1.000000\n",
       "         gross      0.745716\n",
       "         runtime    0.272763\n",
       "gross    year       0.258431\n",
       "         score      0.186558\n",
       "         votes      0.631473\n",
       "         budget     0.745716\n",
       "         gross      1.000000\n",
       "         runtime    0.244045\n",
       "runtime  year       0.119354\n",
       "         score      0.401209\n",
       "         votes      0.308876\n",
       "         budget     0.272763\n",
       "         gross      0.244045\n",
       "         runtime    1.000000\n",
       "dtype: float64"
      ]
     },
     "execution_count": 102,
     "metadata": {},
     "output_type": "execute_result"
    }
   ],
   "source": [
    "df.corr().unstack()"
   ]
  },
  {
   "cell_type": "code",
   "execution_count": 106,
   "id": "80c9553b",
   "metadata": {},
   "outputs": [
    {
     "data": {
      "text/plain": [
       "budget   score      0.061637\n",
       "score    budget     0.061637\n",
       "year     score      0.100629\n",
       "score    year       0.100629\n",
       "runtime  year       0.119354\n",
       "year     runtime    0.119354\n",
       "gross    score      0.186558\n",
       "score    gross      0.186558\n",
       "year     votes      0.220880\n",
       "votes    year       0.220880\n",
       "gross    runtime    0.244045\n",
       "runtime  gross      0.244045\n",
       "gross    year       0.258431\n",
       "year     gross      0.258431\n",
       "runtime  budget     0.272763\n",
       "budget   runtime    0.272763\n",
       "year     budget     0.291937\n",
       "budget   year       0.291937\n",
       "votes    runtime    0.308876\n",
       "runtime  votes      0.308876\n",
       "         score      0.401209\n",
       "score    runtime    0.401209\n",
       "votes    score      0.411727\n",
       "score    votes      0.411727\n",
       "votes    budget     0.459880\n",
       "budget   votes      0.459880\n",
       "gross    votes      0.631473\n",
       "votes    gross      0.631473\n",
       "budget   gross      0.745716\n",
       "gross    budget     0.745716\n",
       "year     year       1.000000\n",
       "budget   budget     1.000000\n",
       "votes    votes      1.000000\n",
       "score    score      1.000000\n",
       "gross    gross      1.000000\n",
       "runtime  runtime    1.000000\n",
       "dtype: float64"
      ]
     },
     "execution_count": 106,
     "metadata": {},
     "output_type": "execute_result"
    }
   ],
   "source": [
    "corr_pairs = df.corr().unstack().sort_values()\n",
    "corr_pairs"
   ]
  },
  {
   "cell_type": "code",
   "execution_count": 108,
   "id": "b344cc33",
   "metadata": {},
   "outputs": [
    {
     "data": {
      "text/plain": [
       "runtime  score      0.401209\n",
       "score    runtime    0.401209\n",
       "votes    score      0.411727\n",
       "score    votes      0.411727\n",
       "votes    budget     0.459880\n",
       "budget   votes      0.459880\n",
       "gross    votes      0.631473\n",
       "votes    gross      0.631473\n",
       "budget   gross      0.745716\n",
       "gross    budget     0.745716\n",
       "dtype: float64"
      ]
     },
     "execution_count": 108,
     "metadata": {},
     "output_type": "execute_result"
    }
   ],
   "source": [
    "corr_pairs[(corr_pairs>0.4)&(corr_pairs<1)]"
   ]
  },
  {
   "cell_type": "markdown",
   "id": "0c24786c",
   "metadata": {},
   "source": [
    "##### Votes and Budget have high correlation with Gross Earning"
   ]
  },
  {
   "cell_type": "markdown",
   "id": "9168e188",
   "metadata": {},
   "source": [
    "#### checking out the company column\n",
    " - calculating revenue earned by every movie\n",
    " - will only analyze companies which have produced more than 10 movies\n",
    " - finding top 10 companies"
   ]
  },
  {
   "cell_type": "code",
   "execution_count": 111,
   "id": "24c8c634",
   "metadata": {},
   "outputs": [
    {
     "name": "stderr",
     "output_type": "stream",
     "text": [
      "<ipython-input-111-6741daa26703>:1: SettingWithCopyWarning: \n",
      "A value is trying to be set on a copy of a slice from a DataFrame.\n",
      "Try using .loc[row_indexer,col_indexer] = value instead\n",
      "\n",
      "See the caveats in the documentation: https://pandas.pydata.org/pandas-docs/stable/user_guide/indexing.html#returning-a-view-versus-a-copy\n",
      "  df['revenue'] = df['gross'] - df['budget']\n"
     ]
    }
   ],
   "source": [
    "df['revenue'] = df['gross'] - df['budget']"
   ]
  },
  {
   "cell_type": "code",
   "execution_count": 150,
   "id": "90f13b27",
   "metadata": {},
   "outputs": [
    {
     "data": {
      "text/html": [
       "<div>\n",
       "<style scoped>\n",
       "    .dataframe tbody tr th:only-of-type {\n",
       "        vertical-align: middle;\n",
       "    }\n",
       "\n",
       "    .dataframe tbody tr th {\n",
       "        vertical-align: top;\n",
       "    }\n",
       "\n",
       "    .dataframe thead th {\n",
       "        text-align: right;\n",
       "    }\n",
       "</style>\n",
       "<table border=\"1\" class=\"dataframe\">\n",
       "  <thead>\n",
       "    <tr style=\"text-align: right;\">\n",
       "      <th></th>\n",
       "      <th>company</th>\n",
       "      <th>revenue</th>\n",
       "    </tr>\n",
       "  </thead>\n",
       "  <tbody>\n",
       "    <tr>\n",
       "      <th>0</th>\n",
       "      <td>\"DIA\" Productions GmbH &amp; Co. KG</td>\n",
       "      <td>8350926</td>\n",
       "    </tr>\n",
       "    <tr>\n",
       "      <th>1</th>\n",
       "      <td>\"Weathering With You\" Film Partners</td>\n",
       "      <td>182357467</td>\n",
       "    </tr>\n",
       "    <tr>\n",
       "      <th>2</th>\n",
       "      <td>.406 Production</td>\n",
       "      <td>-239420</td>\n",
       "    </tr>\n",
       "    <tr>\n",
       "      <th>3</th>\n",
       "      <td>1+2 Seisaku Iinkai</td>\n",
       "      <td>-19303782</td>\n",
       "    </tr>\n",
       "    <tr>\n",
       "      <th>4</th>\n",
       "      <td>10 West Studios</td>\n",
       "      <td>-19685094</td>\n",
       "    </tr>\n",
       "    <tr>\n",
       "      <th>...</th>\n",
       "      <td>...</td>\n",
       "      <td>...</td>\n",
       "    </tr>\n",
       "    <tr>\n",
       "      <th>2348</th>\n",
       "      <td>i am OTHER</td>\n",
       "      <td>10986781</td>\n",
       "    </tr>\n",
       "    <tr>\n",
       "      <th>2349</th>\n",
       "      <td>i5 Films</td>\n",
       "      <td>7031529</td>\n",
       "    </tr>\n",
       "    <tr>\n",
       "      <th>2350</th>\n",
       "      <td>iDeal Partners Film Fund</td>\n",
       "      <td>-19993697</td>\n",
       "    </tr>\n",
       "    <tr>\n",
       "      <th>2351</th>\n",
       "      <td>micro_scope</td>\n",
       "      <td>299598</td>\n",
       "    </tr>\n",
       "    <tr>\n",
       "      <th>2352</th>\n",
       "      <td>thefyzz</td>\n",
       "      <td>56898461</td>\n",
       "    </tr>\n",
       "  </tbody>\n",
       "</table>\n",
       "<p>2353 rows × 2 columns</p>\n",
       "</div>"
      ],
      "text/plain": [
       "                                  company    revenue\n",
       "0         \"DIA\" Productions GmbH & Co. KG    8350926\n",
       "1     \"Weathering With You\" Film Partners  182357467\n",
       "2                         .406 Production    -239420\n",
       "3                      1+2 Seisaku Iinkai  -19303782\n",
       "4                         10 West Studios  -19685094\n",
       "...                                   ...        ...\n",
       "2348                           i am OTHER   10986781\n",
       "2349                             i5 Films    7031529\n",
       "2350             iDeal Partners Film Fund  -19993697\n",
       "2351                          micro_scope     299598\n",
       "2352                              thefyzz   56898461\n",
       "\n",
       "[2353 rows x 2 columns]"
      ]
     },
     "execution_count": 150,
     "metadata": {},
     "output_type": "execute_result"
    }
   ],
   "source": [
    "#### total revenue earned by every company\n",
    "\n",
    "company_revenues = df.groupby('company').sum()['revenue']\n",
    "company_revenues = pd.DataFrame(company_revenues).reset_index()\n",
    "company_revenues"
   ]
  },
  {
   "cell_type": "code",
   "execution_count": 152,
   "id": "a51a341e",
   "metadata": {},
   "outputs": [
    {
     "data": {
      "text/html": [
       "<div>\n",
       "<style scoped>\n",
       "    .dataframe tbody tr th:only-of-type {\n",
       "        vertical-align: middle;\n",
       "    }\n",
       "\n",
       "    .dataframe tbody tr th {\n",
       "        vertical-align: top;\n",
       "    }\n",
       "\n",
       "    .dataframe thead th {\n",
       "        text-align: right;\n",
       "    }\n",
       "</style>\n",
       "<table border=\"1\" class=\"dataframe\">\n",
       "  <thead>\n",
       "    <tr style=\"text-align: right;\">\n",
       "      <th></th>\n",
       "      <th>company</th>\n",
       "      <th>count</th>\n",
       "    </tr>\n",
       "  </thead>\n",
       "  <tbody>\n",
       "    <tr>\n",
       "      <th>0</th>\n",
       "      <td>Universal Pictures</td>\n",
       "      <td>377</td>\n",
       "    </tr>\n",
       "    <tr>\n",
       "      <th>1</th>\n",
       "      <td>Warner Bros.</td>\n",
       "      <td>334</td>\n",
       "    </tr>\n",
       "    <tr>\n",
       "      <th>2</th>\n",
       "      <td>Columbia Pictures</td>\n",
       "      <td>332</td>\n",
       "    </tr>\n",
       "    <tr>\n",
       "      <th>3</th>\n",
       "      <td>Paramount Pictures</td>\n",
       "      <td>320</td>\n",
       "    </tr>\n",
       "    <tr>\n",
       "      <th>4</th>\n",
       "      <td>Twentieth Century Fox</td>\n",
       "      <td>239</td>\n",
       "    </tr>\n",
       "    <tr>\n",
       "      <th>...</th>\n",
       "      <td>...</td>\n",
       "      <td>...</td>\n",
       "    </tr>\n",
       "    <tr>\n",
       "      <th>2348</th>\n",
       "      <td>Bob-Bea Productions</td>\n",
       "      <td>1</td>\n",
       "    </tr>\n",
       "    <tr>\n",
       "      <th>2349</th>\n",
       "      <td>Blue Train Productions</td>\n",
       "      <td>1</td>\n",
       "    </tr>\n",
       "    <tr>\n",
       "      <th>2350</th>\n",
       "      <td>Lions Gate Entertainment</td>\n",
       "      <td>1</td>\n",
       "    </tr>\n",
       "    <tr>\n",
       "      <th>2351</th>\n",
       "      <td>Some Film</td>\n",
       "      <td>1</td>\n",
       "    </tr>\n",
       "    <tr>\n",
       "      <th>2352</th>\n",
       "      <td>Samuels Media</td>\n",
       "      <td>1</td>\n",
       "    </tr>\n",
       "  </tbody>\n",
       "</table>\n",
       "<p>2353 rows × 2 columns</p>\n",
       "</div>"
      ],
      "text/plain": [
       "                       company  count\n",
       "0           Universal Pictures    377\n",
       "1                 Warner Bros.    334\n",
       "2            Columbia Pictures    332\n",
       "3           Paramount Pictures    320\n",
       "4        Twentieth Century Fox    239\n",
       "...                        ...    ...\n",
       "2348       Bob-Bea Productions      1\n",
       "2349    Blue Train Productions      1\n",
       "2350  Lions Gate Entertainment      1\n",
       "2351                 Some Film      1\n",
       "2352             Samuels Media      1\n",
       "\n",
       "[2353 rows x 2 columns]"
      ]
     },
     "execution_count": 152,
     "metadata": {},
     "output_type": "execute_result"
    }
   ],
   "source": [
    "### total movies produced by every company\n",
    "\n",
    "company_counts = df['company'].value_counts()\n",
    "company_counts = pd.DataFrame(company_counts).reset_index()\n",
    "company_counts.columns = ['company', 'count']\n",
    "company_counts"
   ]
  },
  {
   "cell_type": "code",
   "execution_count": 161,
   "id": "b614ffe6",
   "metadata": {},
   "outputs": [],
   "source": [
    "company_df = company_revenues.merge(company_counts, on='company', how='left')"
   ]
  },
  {
   "cell_type": "code",
   "execution_count": 163,
   "id": "cea54723",
   "metadata": {},
   "outputs": [],
   "source": [
    "#### filtering out companies which have produced less than 10 movies\n",
    "company_df = company_df[company_df['count']>10]"
   ]
  },
  {
   "cell_type": "code",
   "execution_count": 164,
   "id": "0226e1fa",
   "metadata": {},
   "outputs": [
    {
     "name": "stderr",
     "output_type": "stream",
     "text": [
      "<ipython-input-164-0e754e52544d>:1: SettingWithCopyWarning: \n",
      "A value is trying to be set on a copy of a slice from a DataFrame.\n",
      "Try using .loc[row_indexer,col_indexer] = value instead\n",
      "\n",
      "See the caveats in the documentation: https://pandas.pydata.org/pandas-docs/stable/user_guide/indexing.html#returning-a-view-versus-a-copy\n",
      "  company_df['rev_per_mov'] = company_df['revenue'] / company_df['count']\n"
     ]
    }
   ],
   "source": [
    "#### calculating revenue earned per movie produced by every company\n",
    "company_df['rev_per_mov'] = company_df['revenue'] / company_df['count']"
   ]
  },
  {
   "cell_type": "code",
   "execution_count": 167,
   "id": "e601b32b",
   "metadata": {},
   "outputs": [
    {
     "data": {
      "text/html": [
       "<div>\n",
       "<style scoped>\n",
       "    .dataframe tbody tr th:only-of-type {\n",
       "        vertical-align: middle;\n",
       "    }\n",
       "\n",
       "    .dataframe tbody tr th {\n",
       "        vertical-align: top;\n",
       "    }\n",
       "\n",
       "    .dataframe thead th {\n",
       "        text-align: right;\n",
       "    }\n",
       "</style>\n",
       "<table border=\"1\" class=\"dataframe\">\n",
       "  <thead>\n",
       "    <tr style=\"text-align: right;\">\n",
       "      <th></th>\n",
       "      <th>company</th>\n",
       "      <th>revenue</th>\n",
       "      <th>count</th>\n",
       "      <th>rev_per_mov</th>\n",
       "    </tr>\n",
       "  </thead>\n",
       "  <tbody>\n",
       "    <tr>\n",
       "      <th>1581</th>\n",
       "      <td>Marvel Studios</td>\n",
       "      <td>12401592411</td>\n",
       "      <td>12</td>\n",
       "      <td>1.033466e+09</td>\n",
       "    </tr>\n",
       "    <tr>\n",
       "      <th>1828</th>\n",
       "      <td>Pixar Animation Studios</td>\n",
       "      <td>6130344526</td>\n",
       "      <td>12</td>\n",
       "      <td>5.108620e+08</td>\n",
       "    </tr>\n",
       "    <tr>\n",
       "      <th>873</th>\n",
       "      <td>DreamWorks Animation</td>\n",
       "      <td>8529612858</td>\n",
       "      <td>28</td>\n",
       "      <td>3.046290e+08</td>\n",
       "    </tr>\n",
       "    <tr>\n",
       "      <th>2284</th>\n",
       "      <td>Walt Disney Animation Studios</td>\n",
       "      <td>4665509051</td>\n",
       "      <td>17</td>\n",
       "      <td>2.744417e+08</td>\n",
       "    </tr>\n",
       "    <tr>\n",
       "      <th>2285</th>\n",
       "      <td>Walt Disney Pictures</td>\n",
       "      <td>25595187792</td>\n",
       "      <td>123</td>\n",
       "      <td>2.080910e+08</td>\n",
       "    </tr>\n",
       "    <tr>\n",
       "      <th>2222</th>\n",
       "      <td>Twentieth Century Fox</td>\n",
       "      <td>28163506551</td>\n",
       "      <td>239</td>\n",
       "      <td>1.178389e+08</td>\n",
       "    </tr>\n",
       "    <tr>\n",
       "      <th>2288</th>\n",
       "      <td>Warner Bros.</td>\n",
       "      <td>36225827563</td>\n",
       "      <td>334</td>\n",
       "      <td>1.084606e+08</td>\n",
       "    </tr>\n",
       "    <tr>\n",
       "      <th>875</th>\n",
       "      <td>Dreamworks Pictures</td>\n",
       "      <td>7653241081</td>\n",
       "      <td>76</td>\n",
       "      <td>1.007005e+08</td>\n",
       "    </tr>\n",
       "    <tr>\n",
       "      <th>2250</th>\n",
       "      <td>Universal Pictures</td>\n",
       "      <td>35581164646</td>\n",
       "      <td>377</td>\n",
       "      <td>9.437975e+07</td>\n",
       "    </tr>\n",
       "    <tr>\n",
       "      <th>2116</th>\n",
       "      <td>Summit Entertainment</td>\n",
       "      <td>5656949838</td>\n",
       "      <td>60</td>\n",
       "      <td>9.428250e+07</td>\n",
       "    </tr>\n",
       "  </tbody>\n",
       "</table>\n",
       "</div>"
      ],
      "text/plain": [
       "                            company      revenue  count   rev_per_mov\n",
       "1581                 Marvel Studios  12401592411     12  1.033466e+09\n",
       "1828        Pixar Animation Studios   6130344526     12  5.108620e+08\n",
       "873            DreamWorks Animation   8529612858     28  3.046290e+08\n",
       "2284  Walt Disney Animation Studios   4665509051     17  2.744417e+08\n",
       "2285           Walt Disney Pictures  25595187792    123  2.080910e+08\n",
       "2222          Twentieth Century Fox  28163506551    239  1.178389e+08\n",
       "2288                   Warner Bros.  36225827563    334  1.084606e+08\n",
       "875             Dreamworks Pictures   7653241081     76  1.007005e+08\n",
       "2250             Universal Pictures  35581164646    377  9.437975e+07\n",
       "2116           Summit Entertainment   5656949838     60  9.428250e+07"
      ]
     },
     "execution_count": 167,
     "metadata": {},
     "output_type": "execute_result"
    }
   ],
   "source": [
    "company_df.sort_values('rev_per_mov', ascending=False).head(10)"
   ]
  },
  {
   "cell_type": "markdown",
   "id": "9a36fd69",
   "metadata": {},
   "source": [
    "##### Top 10 companies"
   ]
  },
  {
   "cell_type": "code",
   "execution_count": null,
   "id": "4cd7dfab",
   "metadata": {},
   "outputs": [],
   "source": []
  }
 ],
 "metadata": {
  "kernelspec": {
   "display_name": "Python 3",
   "language": "python",
   "name": "python3"
  },
  "language_info": {
   "codemirror_mode": {
    "name": "ipython",
    "version": 3
   },
   "file_extension": ".py",
   "mimetype": "text/x-python",
   "name": "python",
   "nbconvert_exporter": "python",
   "pygments_lexer": "ipython3",
   "version": "3.8.10"
  }
 },
 "nbformat": 4,
 "nbformat_minor": 5
}
